{
 "cells": [
  {
   "cell_type": "code",
   "execution_count": 19,
   "id": "3cfc9127-5f9a-41aa-81ad-1a60e344998c",
   "metadata": {},
   "outputs": [],
   "source": [
    "import xml.etree.ElementTree as ET\n",
    "import random\n",
    "\n",
    "# Parse the GraphML file as XML\n",
    "tree = ET.parse('./../graphmls/tiktok.graphml')\n",
    "root = tree.getroot()\n",
    "\n",
    "# Iterate over all edges to add the 'isConditional' attribute to the ones with d2 == \"COLLECT\"\n",
    "for edge in root.findall('.//edge'):\n",
    "    for data in edge.findall('data'):\n",
    "        if data.attrib.get('key') == 'd2' and data.text == 'COLLECT':\n",
    "            # Add the 'isConditional' attribute to the edge with a random True/False value\n",
    "            edge.set('isConditional', str(random.choice([True, False])).lower())\n",
    "\n",
    "# Save the modified file to a new location\n",
    "tree.write('modified_file_with_isConditional.graphml', encoding='utf-8', xml_declaration=True)\n"
   ]
  },
  {
   "cell_type": "code",
   "execution_count": null,
   "id": "49547aa8-3de1-4b84-bb27-2c067a0a08d8",
   "metadata": {},
   "outputs": [],
   "source": []
  },
  {
   "cell_type": "code",
   "execution_count": null,
   "id": "75c117a9-11cd-4db8-a315-517684b65f19",
   "metadata": {},
   "outputs": [],
   "source": []
  }
 ],
 "metadata": {
  "kernelspec": {
   "display_name": "Python 3 (ipykernel)",
   "language": "python",
   "name": "python3"
  },
  "language_info": {
   "codemirror_mode": {
    "name": "ipython",
    "version": 3
   },
   "file_extension": ".py",
   "mimetype": "text/x-python",
   "name": "python",
   "nbconvert_exporter": "python",
   "pygments_lexer": "ipython3",
   "version": "3.11.7"
  }
 },
 "nbformat": 4,
 "nbformat_minor": 5
}
