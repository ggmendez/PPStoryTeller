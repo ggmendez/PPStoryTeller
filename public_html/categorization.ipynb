{
 "cells": [
  {
   "cell_type": "code",
   "execution_count": null,
   "id": "a525f193-8654-4527-bb7e-f4691159c401",
   "metadata": {},
   "outputs": [],
   "source": [
    "!pip install networkx"
   ]
  },
  {
   "cell_type": "code",
   "execution_count": 3,
   "id": "802dc0a9-5d76-4f46-bd33-ac64069b1743",
   "metadata": {},
   "outputs": [
    {
     "name": "stdout",
     "output_type": "stream",
     "text": [
      "['voice command', 'credit / debit card number', 'social media', 'personal information about united states resident', 'action take on website', 'point of interest', 'x', 'recording of voice', 'automatic information', 'country with adequacy decision', 'personal data include in input you provide to service', 'Amazon.com', 'Microsoft', 'information describe in information we collect section', 'infer information', 'information from form you use', 'information about you', 'successor', 'Samsung', 'email communication software', 'information you provide to we', 'payment confirmation detail', 'information about you you choose', 'rhythm', 'information describe in', 'recommendation', 'carrier info', 'information we obtain', 'technical information', 'voice datum', 'associate metadata', 'youtube', 'information about purchase transaction', 'reminder', 'ip address', 'info from device understand you', 'Medium', 'information about use of services', 'advertiser', 'counterpartie', 'law enforcement agency', 'user agent', 'aggregate demographic information about follower', 'date', 'router ssid', 'coarse geolocation', 'datum about event', 'message you send', 'publicly available information', 'people', 'country', 'identify information', 'image', 'financing partner', 'browser type', 'delivery information', 'account credential', 'ssn', 'preferred language', 'time zone', 'cloud service', 'business account administrator', 'item you purchase', 'user content', 'payment provider', 'geolocation', 'Facebook', 'UNSPECIFIED_DATA', 'information regard place of establishment bank account information for identity verification', 'text', 'performance log', 'information you give we', 'information we collect', 'information you provide', 'configuration', 'profile', 'postal code', 'system permission', 'time', 'personal data you choose', 'information about content you view', \"driver's license number\", 'serial number', 'tiktok', 'precise geolocation', 'content of message you send', 'other', 'customer service vendor', 'ad', 'information you provide through source', 'shipping carrier information', 'inference', 'account', 'page', 'information from social network you use', 'amazon business card', 'measurement', 'information you access', 'device information', 'sim card', 'public authority', 'estimate', 'gemini apps activity', 'specific shopping action', 'administrator of account', 'product view', 'content', 'profile information', 'independent researcher', 'information you send we', 'product review', 'balance', 'password', 'video content', 'direct message', 'device log file', 'username', 'creator', 'personal information need', 'email address', 'information technology service provider', 'age', 'chatgpt', 'content characteristic', 'computer connection', 'information associate with account', 'voice input', 'identity', 'openai account', 'sign information', 'dialer', 'characteristic', 'service provider', 'Google', 'account information', 'message', 'public profile information', 'category of information', 'device identifier', 'person name', 'gemini apps conversation', 'browsing / search history', 'purchase information relate to transaction', 'collect information', 'analytic provider', 'screen content', 'code', 'information we collect about you from service', 'information we have', 'email to we', 'credit history information', 'personal description', 'sensor', 'tracking pixel', 'info entertainment professional need', 'personal identifier', 'content of message', 'aggregate / deidentified / pseudonymized information', 'payment information', 'cookie / pixel tag', 'information about interaction with product available', 'UNSPECIFIED_ACTOR', 'transaction history', 'content delivery service', 'business transfer', 'related product usage information', 'device model', 'photograph', 'gemini apps', 'name of device', 'phone number', 'provider of hosting service', 'type of content', 'personal profile', 'movie box office datum', 'information about number of view of video', 'technical information about device', 'hashtag', 'information about', 'we', 'imdbpro', 'voiceprint', 'personal information', 'information regard place of establishment bank account information', 'prime video', 'zip code', 'network', 'system language', 'advertising id', 'order', 'country list', 'entity within corporate group', 'operating system', 'identifier', 'physical store', 'personal datum relate to you', 'top subscription box', 'scoring method', 'postal address', 'keystroke pattern', 'relate information', 'personal data we share', 'return exchange item', 'purchase information', 'inaccurate information not represent view', 'content you create', 'audio recording', 'support monitoring service', 'republic of korea', 'order item', 'law enforcement', 'call log', 'communication information', 'wifi credential', 'document regard identity', 'setting', 'zappos shoe', 'datum warehouse service', 'date of birth', 'crash report', 'information from source', 'beacon', 'public profile', 'internet activity', 'government authority', 'communication with amazon employee', 'company in eea', 'corporate information', 'imei', 'info', 'researcher', 'information about processing', 'log datum', 'basic account information', 'usage information', 'biometric information', 'wireless carrier', 'contact information', 'personal information relate to transaction', 'aggregate statistic', 'gemini', 'amazon subscription box', 'amazon', 'shipping rate', 'feedback', 'browsing', 'contact', 'social media information', 'merchant', 'information about use of service', 'engagement with user', 'information you provide in relation to amazon services']\n"
     ]
    }
   ],
   "source": [
    "import networkx as nx\n",
    "\n",
    "# List of graphml files\n",
    "graphml_files = ['amazon.graphml', 'bixy.graphml', 'gemini.graphml', 'openai.graphml', 'siri.graphml', 'tiktok.graphml']\n",
    "\n",
    "# Initialize an empty set to store the combined nodes\n",
    "combined_nodes = set()\n",
    "\n",
    "# Iterate through each graphml file\n",
    "for file in graphml_files:\n",
    "    # Read the graphml file into a NetworkX graph\n",
    "    G = nx.read_graphml(file)\n",
    "    # Add the nodes from the current graph to the combined set\n",
    "    combined_nodes.update(G.nodes())\n",
    "\n",
    "# Print the combined list of nodes\n",
    "print(list(combined_nodes))"
   ]
  },
  {
   "cell_type": "code",
   "execution_count": 61,
   "id": "0ab5718a-8104-437d-856e-4392b52c1766",
   "metadata": {},
   "outputs": [
    {
     "name": "stdout",
     "output_type": "stream",
     "text": [
      "Combined ACTOR nodes:\n",
      "\n",
      "Size of Combined ACTOR nodes:\n",
      "\n",
      " 3\n",
      "['gemini apps', 'gemini', 'Google']\n",
      "\n",
      "\n",
      " **** \n",
      "Combined DATA nodes:\n",
      "\n",
      "Size of Combined DATA nodes:\n",
      "\n",
      " 18\n",
      "['preferred language', 'voice datum', 'dialer', 'info', 'geolocation', 'ip address', 'info from device understand you', 'feedback', 'contact', 'UNSPECIFIED_DATA', 'system permission', 'inaccurate information not represent view', 'gemini apps activity', 'gemini apps conversation', 'call log', 'postal address', 'related product usage information', 'screen content']\n"
     ]
    }
   ],
   "source": [
    "import networkx as nx\n",
    "import os\n",
    "import xml.etree.ElementTree as ET\n",
    "\n",
    "# Initialize empty lists for combined ACTOR and DATA nodes\n",
    "combined_actor_nodes = []\n",
    "combined_data_nodes = []\n",
    "\n",
    "# List the graphml files in the directory\n",
    "#graphml_files = ['amazon.graphml', 'bixy.graphml', 'gemini.graphml', 'openai.graphml', 'siri.graphml', 'tiktok.graphml']\n",
    "graphml_files = ['gemini.graphml']\n",
    "\n",
    "# Iterate through each graphml file\n",
    "for file in graphml_files:\n",
    "    tree = ET.parse('graphmls/' + file)\n",
    "    root = tree.getroot()\n",
    "    ns = {'graphml': 'http://graphml.graphdrawing.org/xmlns'}\n",
    "    nodes = root.findall('.//graphml:node', namespaces=ns)\n",
    "    for node in nodes:\n",
    "        data_elements = node.findall('graphml:data', namespaces=ns)\n",
    "        for data in data_elements:\n",
    "            if data.attrib['key'] == 'd1':\n",
    "                if data.text == 'ACTOR':\n",
    "                    combined_actor_nodes.append(node.attrib['id'])\n",
    "                elif data.text == 'DATA':\n",
    "                    combined_data_nodes.append(node.attrib['id'])\n",
    "\n",
    "# Remove duplicates from the combined lists\n",
    "combined_actor_nodes = list(set(combined_actor_nodes))\n",
    "combined_data_nodes = list(set(combined_data_nodes))\n",
    "\n",
    "# Print the combined lists of ACTOR and DATA nodes\n",
    "print(\"Combined ACTOR nodes:\\n\")\n",
    "print(\"Size of Combined ACTOR nodes:\\n\\n\", len(combined_actor_nodes))\n",
    "print(combined_actor_nodes)\n",
    "\n",
    "print(\"\\n\\n **** \")\n",
    "\n",
    "print(\"Combined DATA nodes:\\n\")\n",
    "print(\"Size of Combined DATA nodes:\\n\\n\", len(combined_data_nodes))\n",
    "print(combined_data_nodes)\n",
    "\n",
    "\n",
    "\n"
   ]
  },
  {
   "cell_type": "code",
   "execution_count": null,
   "id": "67ceadb7-bd6e-437f-80c2-a6f037f84da8",
   "metadata": {},
   "outputs": [],
   "source": []
  },
  {
   "cell_type": "code",
   "execution_count": null,
   "id": "374dab12-6f68-4971-ac9f-749bc67f7d9f",
   "metadata": {},
   "outputs": [],
   "source": []
  }
 ],
 "metadata": {
  "kernelspec": {
   "display_name": "Python 3 (ipykernel)",
   "language": "python",
   "name": "python3"
  },
  "language_info": {
   "codemirror_mode": {
    "name": "ipython",
    "version": 3
   },
   "file_extension": ".py",
   "mimetype": "text/x-python",
   "name": "python",
   "nbconvert_exporter": "python",
   "pygments_lexer": "ipython3",
   "version": "3.11.7"
  }
 },
 "nbformat": 4,
 "nbformat_minor": 5
}
